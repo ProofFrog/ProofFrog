{
 "cells": [
  {
   "cell_type": "markdown",
   "id": "9947cdca",
   "metadata": {
   },
   "source": [
    "This jupyter notebook proves [Theorem 2.15](https://joyofcryptography.com/pdf/chap2.pdf#page=18) from [The Joy of Cryptography](https://joyofcryptography.com/). Namely, that if a symmetric encryption scheme has one-time uniform ciphertexts, then it is also one-time secure.\n",
    "\n",
    "# Definitions\n",
    "\n",
    "First, we write a primitive definition for symmetric encryption schemes."
   ]
  },
  {
   "cell_type": "code",
   "execution_count": 1,
   "id": "449a5553",
   "metadata": {},
   "outputs": [],
   "source": [
    "Primitive SymEnc(Set MessageSpace, Set CiphertextSpace, Set KeySpace) {\n",
    "    Set Message = MessageSpace;\n",
    "    Set Ciphertext = CiphertextSpace;\n",
    "    Set Key = KeySpace;\n",
    "\n",
    "    Key KeyGen();\n",
    "\n",
    "    Ciphertext Enc(Key k, Message m);\n",
    "\n",
    "    Message? Dec(Key k, Ciphertext c);\n",
    "}"
   ]
  },
  {
   "cell_type": "markdown",
   "id": "b34e272f",
   "metadata": {},
   "source": [
    "Next, we write a pair of games that model the one-time uniform ciphertexts property."
   ]
  },
  {
   "cell_type": "code",
   "execution_count": 2,
   "id": "80b63854",
   "metadata": {},
   "outputs": [],
   "source": [
    "Game Real(SymEnc E) {\n",
    "    E.Ciphertext CTXT(E.Message m) {\n",
    "        E.Key k = E.KeyGen();\n",
    "        E.Ciphertext c = E.Enc(k, m);\n",
    "        return c;\n",
    "    }\n",
    "}\n",
    "\n",
    "Game Random(SymEnc E) {\n",
    "    E.Ciphertext CTXT(E.Message m) {\n",
    "        E.Ciphertext c <- E.Ciphertext;\n",
    "        return c;\n",
    "    }\n",
    "}\n",
    "\n",
    "export as OneTimeUniformCiphertexts;"
   ]
  },
  {
   "cell_type": "markdown",
   "id": "7c766378",
   "metadata": {},
   "source": [
    "And a game that models the one-time security property."
   ]
  },
  {
   "cell_type": "code",
   "execution_count": 3,
   "id": "92f5e498",
   "metadata": {},
   "outputs": [],
   "source": [
    "Game Left(SymEnc E) {\n",
    "    E.Ciphertext Eavesdrop(E.Message mL, E.Message mR) {\n",
    "        E.Key k = E.KeyGen();\n",
    "        E.Ciphertext c = E.Enc(k, mL);\n",
    "        return c;\n",
    "    }\n",
    "}\n",
    "\n",
    "Game Right(SymEnc E) {\n",
    "    E.Ciphertext Eavesdrop(E.Message mL, E.Message mR) {\n",
    "        E.Key k = E.KeyGen();\n",
    "        E.Ciphertext c = E.Enc(k, mR);\n",
    "        return c;\n",
    "    }\n",
    "}\n",
    "\n",
    "export as OneTimeSecrecy;\n"
   ]
  },
  {
   "cell_type": "markdown",
   "id": "76fc5a33",
   "metadata": {},
   "source": [
    "# Proof\n",
    "\n",
    "Our first reduction, `R1`, uses the real `OneTimeUniformCiphertexts CTXT` oracle to perfectly mimic the behaviour of the left `OneTimeSecrey` game. Replacing the real oracle with the random oracle by the assumption that `proofE` has one-time uniform ciphertexts then lets us hop to the second reduction `R2`. The only syntactic change between `R1` and `R2` is the argument passed to the CTXT oracle, which is not used whatsoever when interacting with the random challenger. Then, hopping to use the real challenger yields a game which is codewise equivalent to the right `OneTimeSecrecy` game, showing that `proofE` is one-time secure."
   ]
  },
  {
   "cell_type": "code",
   "execution_count": 4,
   "id": "11666711",
   "metadata": {},
   "outputs": [],
   "source": [
    "Reduction R1(SymEnc se) compose OneTimeUniformCiphertexts(se) against OneTimeSecrecy(se).Adversary {\n",
    "    se.Ciphertext Eavesdrop(se.Message mL, se.Message mR) {\n",
    "        return challenger.CTXT(mL);\n",
    "    }\n",
    "}\n",
    "\n",
    "Reduction R2(SymEnc se2) compose OneTimeUniformCiphertexts(se2) against OneTimeSecrecy(se2).Adversary {\n",
    "    se2.Ciphertext Eavesdrop(se2.Message mL, se2.Message mR) {\n",
    "        return challenger.CTXT(mR);\n",
    "    }\n",
    "}\n",
    "\n",
    "proof:\n",
    "\n",
    "let:\n",
    "\n",
    "    Set MessageSpace;\n",
    "    Set CiphertextSpace;\n",
    "    Set KeySpace;\n",
    "\n",
    "    SymEnc proofE = SymEnc(MessageSpace, CiphertextSpace, KeySpace);\n",
    "\n",
    "assume:\n",
    "\n",
    "    OneTimeUniformCiphertexts(proofE);\n",
    "\n",
    "theorem:\n",
    "    OneTimeSecrecy(proofE);\n",
    "\n",
    "games:\n",
    "\n",
    "    OneTimeSecrecy(proofE).Left against OneTimeSecrecy(proofE).Adversary;\n",
    "\n",
    "    // Codewise-equivalency\n",
    "    OneTimeUniformCiphertexts(proofE).Real compose R1(proofE) against OneTimeSecrecy(proofE).Adversary;\n",
    "\n",
    "    // By assumption\n",
    "    OneTimeUniformCiphertexts(proofE).Random compose R1(proofE) against OneTimeSecrecy(proofE).Adversary;\n",
    "\n",
    "    // mL argument is not used in R\n",
    "    OneTimeUniformCiphertexts(proofE).Random compose R2(proofE) against OneTimeSecrecy(proofE).Adversary;\n",
    "\n",
    "    // By assumption\n",
    "    OneTimeUniformCiphertexts(proofE).Real compose R2(proofE) against OneTimeSecrecy(proofE).Adversary;\n",
    "\n",
    "    // Codewise equivalency\n",
    "    OneTimeSecrecy(proofE).Right against OneTimeSecrecy(proofE).Adversary;\n"
   ]
  },
  {
   "cell_type": "code",
   "execution_count": null,
   "id": "8552feff",
   "metadata": {},
   "outputs": [],
   "source": []
  }
 ],
 "metadata": {
  "kernelspec": {
   "display_name": "proof_frog",
   "language": "",
   "name": "kernel"
  },
  "language_info": {
   "file_extension": ".txt",
   "mimetype": "text/plain",
   "name": "Any text"
  }
 },
 "nbformat": 4,
 "nbformat_minor": 5
}
